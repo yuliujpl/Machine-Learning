{
 "cells": [
  {
   "cell_type": "code",
   "execution_count": 24,
   "metadata": {},
   "outputs": [
    {
     "name": "stdout",
     "output_type": "stream",
     "text": [
      "Collecting pydicom\n",
      "  Downloading pydicom-1.0.2.tar.gz (6.7MB)\n",
      "Building wheels for collected packages: pydicom\n",
      "  Running setup.py bdist_wheel for pydicom: started\n",
      "  Running setup.py bdist_wheel for pydicom: finished with status 'done'\n",
      "  Stored in directory: /home/yuliu/.cache/pip/wheels/02/7d/04/871afc63de868b681d69018397c1fb6286af0ae7c0aa5b6e61\n",
      "Successfully built pydicom\n",
      "Installing collected packages: pydicom\n"
     ]
    },
    {
     "name": "stderr",
     "output_type": "stream",
     "text": [
      "Exception:\n",
      "Traceback (most recent call last):\n",
      "  File \"/usr/local/anaconda3/lib/python3.6/site-packages/pip/basecommand.py\", line 215, in main\n",
      "    status = self.run(options, args)\n",
      "  File \"/usr/local/anaconda3/lib/python3.6/site-packages/pip/commands/install.py\", line 342, in run\n",
      "    prefix=options.prefix_path,\n",
      "  File \"/usr/local/anaconda3/lib/python3.6/site-packages/pip/req/req_set.py\", line 784, in install\n",
      "    **kwargs\n",
      "  File \"/usr/local/anaconda3/lib/python3.6/site-packages/pip/req/req_install.py\", line 851, in install\n",
      "    self.move_wheel_files(self.source_dir, root=root, prefix=prefix)\n",
      "  File \"/usr/local/anaconda3/lib/python3.6/site-packages/pip/req/req_install.py\", line 1064, in move_wheel_files\n",
      "    isolated=self.isolated,\n",
      "  File \"/usr/local/anaconda3/lib/python3.6/site-packages/pip/wheel.py\", line 345, in move_wheel_files\n",
      "    clobber(source, lib_dir, True)\n",
      "  File \"/usr/local/anaconda3/lib/python3.6/site-packages/pip/wheel.py\", line 323, in clobber\n",
      "    shutil.copyfile(srcfile, destfile)\n",
      "  File \"/usr/local/anaconda3/lib/python3.6/shutil.py\", line 121, in copyfile\n",
      "    with open(dst, 'wb') as fdst:\n",
      "PermissionError: [Errno 13] Permission denied: '/usr/local/anaconda3/lib/python3.6/site-packages/dicom.py'\n",
      "You are using pip version 9.0.1, however version 9.0.3 is available.\n",
      "You should consider upgrading via the 'pip install --upgrade pip' command.\n"
     ]
    }
   ],
   "source": [
    "import pip\n",
    "\n",
    "def install(package):\n",
    "    pip.main(['install', package])\n",
    "\n",
    "# Example\n",
    "if __name__ == '__main__':\n",
    "    install('pydicom')"
   ]
  },
  {
   "cell_type": "code",
   "execution_count": 1,
   "metadata": {},
   "outputs": [
    {
     "name": "stderr",
     "output_type": "stream",
     "text": [
      "/usr/local/anaconda3/lib/python3.6/site-packages/dicom/__init__.py:53: UserWarning: \n",
      "This code is using an older version of pydicom, which is no longer \n",
      "maintained as of Jan 2017.  You can access the new pydicom features and API \n",
      "by installing `pydicom` from PyPI.\n",
      "See 'Transitioning to pydicom 1.x' section at pydicom.readthedocs.org \n",
      "for more information.\n",
      "\n",
      "  warnings.warn(msg)\n"
     ]
    }
   ],
   "source": [
    "import numpy as np # linear algebra\n",
    "import pandas as pd # data processing, CSV file I/O (e.g. pd.read_csv)\n",
    "import dicom\n",
    "import os\n",
    "import scipy.ndimage\n",
    "import matplotlib.pyplot as plt\n",
    "\n",
    "from skimage import measure, morphology\n",
    "from PIL import Image\n",
    "from mpl_toolkits.mplot3d.art3d import Poly3DCollection\n",
    "from scipy.ndimage.morphology import binary_dilation,generate_binary_structure\n",
    "from skimage.morphology import convex_hull_image\n",
    "from scipy.ndimage.interpolation import zoom\n",
    "from scipy.io import loadmat\n",
    "import warnings\n",
    "from multiprocessing import Pool, cpu_count\n",
    "from functools import partial\n",
    "\n",
    "\n",
    "%matplotlib inline\n",
    "\n",
    "\n",
    "PATH = \"/usr/local/kdeploy/Tensorflow/DATA/NLST_trial/217676\"\n",
    "\n",
    "#data_path = \"/usr/local/kdeploy/Tensorflow/DATA/NLST_trial/218662\"\n",
    "#PATH = \"/usr/local/kdeploy/Tensorflow/DATA/NLST_trial/218662\"\n",
    "\n",
    "output_path = working_path = \"/home/yuliu/Documents/\"\n",
    "# Print out the first 5 file names to verify we're in the right folder."
   ]
  },
  {
   "cell_type": "code",
   "execution_count": 2,
   "metadata": {
    "collapsed": true
   },
   "outputs": [],
   "source": [
    "patients = os.listdir(PATH)\n",
    "dicoms = os.listdir(os.path.join(PATH,patients[0]))\n",
    "patient_0_path = os.path.join(PATH,patients[0])\n",
    "patient_0_slices = [dicom.read_file(patient_0_path + '/' + s) for s in os.listdir(patient_0_path)]\n",
    "patient_0_slice = patient_0_slices[0]\n",
    "patient_0_slices.sort(key = lambda x: float(x.ImagePositionPatient[2]))\n",
    "patient_696_path = os.path.join(PATH,patients[0]) \n",
    "patient_696_slices = [dicom.read_file(patient_696_path + '/' + s) for s in os.listdir(patient_696_path)]\n",
    "patient_696_slices.sort(key = lambda x: float(x.ImagePositionPatient[2]))\n",
    "\n",
    "sec_num = 2;\n",
    "while patient_696_slices[0].ImagePositionPatient[2] == patient_696_slices[sec_num].ImagePositionPatient[2]:\n",
    "    sec_num = sec_num+1;\n",
    "    \n",
    "slice_num = int(len(patient_696_slices)/sec_num)\n",
    "patient_696_slices.sort(key = lambda x: int(x.InstanceNumber))\n",
    "patient_696_slices = patient_696_slices[:slice_num]\n",
    "patient_696_slices.sort(key = lambda x: float(x.ImagePositionPatient[2]))\n",
    "patient_0_slice_thickness = np.abs(patient_0_slices[0].ImagePositionPatient[2] - patient_0_slices[1].ImagePositionPatient[2]) \n",
    "\n",
    "\n",
    "def load_scan(path):\n",
    "    slices = [dicom.read_file(path + '/' + s) for s in os.listdir(path)]\n",
    "    slices.sort(key = lambda x: float(x.ImagePositionPatient[2]))\n",
    "    if slices[0].ImagePositionPatient[2] == slices[1].ImagePositionPatient[2]:\n",
    "        sec_num = 2;\n",
    "        while slices[0].ImagePositionPatient[2] == slices[sec_num].ImagePositionPatient[2]:\n",
    "            sec_num = sec_num+1;\n",
    "        slice_num = int(len(slices) / sec_num)\n",
    "        slices.sort(key = lambda x:float(x.InstanceNumber))\n",
    "        slices = slices[0:slice_num]\n",
    "        slices.sort(key = lambda x:float(x.ImagePositionPatient[2]))\n",
    "    try:\n",
    "        slice_thickness = np.abs(slices[0].ImagePositionPatient[2] - slices[1].ImagePositionPatient[2])\n",
    "    except:\n",
    "        slice_thickness = np.abs(slices[0].SliceLocation - slices[1].SliceLocation)\n",
    "        \n",
    "    for s in slices:\n",
    "        s.SliceThickness = slice_thickness\n",
    "        \n",
    "    return slices\n",
    "\n",
    "patient_0_pixel_array = patient_0_slice.pixel_array\n",
    "    \n",
    "patient_0_pixel_array\n",
    "\n",
    "patient_0_slice.RescaleSlope, patient_0_slice.RescaleIntercept\n",
    "\n",
    "patient_0_pixel_array_hu = patient_0_pixel_array*patient_0_slice.RescaleSlope + patient_0_slice.RescaleIntercept\n",
    "\n",
    "def get_pixels_hu(slices):\n",
    "    image = np.stack([s.pixel_array for s in slices])\n",
    "    # Convert to int16 (from sometimes int16), \n",
    "    # should be possible as values should always be low enough (<32k)\n",
    "    image = image.astype(np.int16)\n",
    "    \n",
    "    # Convert to Hounsfield units (HU)\n",
    "    for slice_number in range(len(slices)):        \n",
    "        intercept = slices[slice_number].RescaleIntercept\n",
    "        slope = slices[slice_number].RescaleSlope\n",
    "        \n",
    "        if slope != 1:\n",
    "            image[slice_number] = slope * image[slice_number].astype(np.float64)\n",
    "            image[slice_number] = image[slice_number].astype(np.int16)\n",
    "            \n",
    "        image[slice_number] += np.int16(intercept)\n",
    "    \n",
    "    return np.array(image, dtype=np.int16), np.array([slices[0].SliceThickness] + slices[0].PixelSpacing, dtype=np.float32)\n",
    "\n"
   ]
  },
  {
   "cell_type": "code",
   "execution_count": null,
   "metadata": {
    "collapsed": true
   },
   "outputs": [],
   "source": [
    "patient_0_image, patient_0_spacing = get_pixels_hu(load_scan(patient_0_path))\n",
    "spacing = patient_0_spacing\n",
    "def plot_3d(image, threshold=-300):\n",
    "    \n",
    "    # Position the scan upright, \n",
    "    # so the head of the patient would be at the top facing the camera\n",
    "    p = image.transpose(2,1,0)\n",
    "    #p = measure.block_reduce(p,(3,3,3), func=np.max)\n",
    "    \n",
    "    verts, faces, _, _ = measure.marching_cubes(p, threshold)\n",
    "\n",
    "    fig = plt.figure(figsize=(10, 10))\n",
    "    ax = fig.add_subplot(111, projection='3d')\n",
    "\n",
    "    # Fancy indexing: `verts[faces]` to generate a collection of triangles\n",
    "    mesh = Poly3DCollection(verts[faces], alpha=0.70)\n",
    "    face_color = [0.45, 0.45, 0.75]\n",
    "    mesh.set_facecolor(face_color)\n",
    "    ax.add_collection3d(mesh)\n",
    "\n",
    "    ax.set_xlim(0, p.shape[0])\n",
    "    ax.set_ylim(0, p.shape[1])\n",
    "    ax.set_zlim(0, p.shape[2])\n",
    "\n",
    "    plt.show()\n",
    "    \n",
    "#plot_3d(patient_0_image, 400)"
   ]
  },
  {
   "cell_type": "code",
   "execution_count": null,
   "metadata": {},
   "outputs": [],
   "source": [
    "plot_3d(patient_0_image, 0)"
   ]
  },
  {
   "cell_type": "code",
   "execution_count": 5,
   "metadata": {},
   "outputs": [
    {
     "name": "stdout",
     "output_type": "stream",
     "text": [
      "OK\n",
      "308\n",
      "NOW\n"
     ]
    },
    {
     "data": {
      "image/png": "[encoded data removed]",
      "text/plain": [
       "<matplotlib.figure.Figure at 0x7f1f3d49a358>"
      ]
     },
     "metadata": {},
     "output_type": "display_data"
    }
   ],
   "source": [
    "%matplotlib inline\n",
    "import numpy as np\n",
    "from scipy import misc\n",
    "import matplotlib.pyplot as plt\n",
    "from mpl_toolkits.mplot3d import Axes3D\n",
    "\n",
    "dir = 'Documents/NC2/Nodule_PNG/'\n",
    "imfile = '217676.s3.19990102-GE MEDICAL SYSTEMS-1.25-120-STANDARD-80.1.3.6.1.4.1.14519.5.2.1.7009.9004.238276364730046742982927193825.v10.new.png'\n",
    "#imfile = '218662.s3.19990102-SIEMENS-1-120-B30f-250.1.3.6.1.4.1.14519.5.2.1.7009.9004.125728469265057104905925332880.v12.new.png'\n",
    "image = dir + imfile\n",
    "\n",
    "im = misc.imread(image)\n",
    "im3 = np.reshape(im,(int(im.shape[0]/512),512,im.shape[1]))\n",
    "nodules3 = np.where(im3==255)\n",
    "\n",
    "fig = plt.figure()\n",
    "ax = fig.add_subplot(111, projection='3d')\n",
    "ax.scatter(nodules3[0], nodules3[1], nodules3[2], zdir='z', c= 'red')\n",
    "plt.savefig(\"demo.png\")\n",
    "print (\"OK\")\n",
    "print(len(im3))\n",
    "print (\"NOW\")"
   ]
  },
  {
   "cell_type": "code",
   "execution_count": 6,
   "metadata": {},
   "outputs": [
    {
     "ename": "ValueError",
     "evalue": "operands could not be broadcast together with shapes (923,512,512) (308,512,512) ",
     "output_type": "error",
     "traceback": [
      "\u001b[0;31m---------------------------------------------------------------------------\u001b[0m",
      "\u001b[0;31mValueError\u001b[0m                                Traceback (most recent call last)",
      "\u001b[0;32m<ipython-input-6-a4fd8422ef7f>\u001b[0m in \u001b[0;36m<module>\u001b[0;34m()\u001b[0m\n\u001b[1;32m      1\u001b[0m \u001b[0;31m#bw3 = patient_0_image & nodules3\u001b[0m\u001b[0;34m\u001b[0m\u001b[0;34m\u001b[0m\u001b[0m\n\u001b[0;32m----> 2\u001b[0;31m \u001b[0mplot_3d\u001b[0m\u001b[0;34m(\u001b[0m\u001b[0mpatient_0_image\u001b[0m \u001b[0;34m&\u001b[0m \u001b[0mim3\u001b[0m\u001b[0;34m,\u001b[0m \u001b[0;36m400\u001b[0m\u001b[0;34m)\u001b[0m\u001b[0;34m\u001b[0m\u001b[0m\n\u001b[0m",
      "\u001b[0;31mValueError\u001b[0m: operands could not be broadcast together with shapes (923,512,512) (308,512,512) "
     ]
    }
   ],
   "source": [
    "#bw3 = patient_0_image & nodules3\n",
    "plot_3d(patient_0_image & im3, 400)"
   ]
  },
  {
   "cell_type": "code",
   "execution_count": null,
   "metadata": {
    "collapsed": true
   },
   "outputs": [],
   "source": []
  }
 ],
 "metadata": {
  "kernelspec": {
   "display_name": "Python 3",
   "language": "python",
   "name": "python3"
  },
  "language_info": {
   "codemirror_mode": {
    "name": "ipython",
    "version": 3
   },
   "file_extension": ".py",
   "mimetype": "text/x-python",
   "name": "python",
   "nbconvert_exporter": "python",
   "pygments_lexer": "ipython3",
   "version": "3.6.1"
  }
 },
 "nbformat": 4,
 "nbformat_minor": 2
}
