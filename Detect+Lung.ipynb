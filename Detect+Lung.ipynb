{
 "cells": [
  {
   "cell_type": "code",
   "execution_count": 52,
   "metadata": {},
   "outputs": [
    {
     "name": "stdout",
     "output_type": "stream",
     "text": [
      "Requirement already satisfied: pydicom in /data/local/anaconda3/lib/python3.6/site-packages\n"
     ]
    },
    {
     "name": "stderr",
     "output_type": "stream",
     "text": [
      "You are using pip version 9.0.1, however version 10.0.1 is available.\n",
      "You should consider upgrading via the 'pip install --upgrade pip' command.\n"
     ]
    }
   ],
   "source": [
    "import pip\n",
    "\n",
    "def install(package):\n",
    "    pip.main(['install', package])\n",
    "\n",
    "# Example\n",
    "if __name__ == '__main__':\n",
    "    install('pydicom')"
   ]
  },
  {
   "cell_type": "code",
   "execution_count": null,
   "metadata": {},
   "outputs": [],
   "source": [
    "import numpy as np # linear algebra\n",
    "import pandas as pd # data processing, CSV file I/O (e.g. pd.read_csv)\n",
    "import dicom\n",
    "import os, glob\n",
    "import scipy.ndimage\n",
    "import matplotlib.pyplot as plt\n",
    "\n",
    "from skimage import measure, morphology\n",
    "from PIL import Image\n",
    "from mpl_toolkits.mplot3d.art3d import Poly3DCollection\n",
    "from scipy.ndimage.morphology import binary_dilation,generate_binary_structure\n",
    "from skimage.morphology import convex_hull_image\n",
    "from scipy.ndimage.interpolation import zoom\n",
    "from scipy.io import loadmat\n",
    "import warnings\n",
    "from multiprocessing import Pool, cpu_count\n",
    "from functools import partial\n",
    "\n",
    "\n",
    "%matplotlib inline\n",
    "\n",
    "\n",
    "#/usr/local/kdeploy/Tensorflow/DATA/NLST_trial/217676\n",
    "#/usr/local/kdeploy/Tensorflow/DATA/NLST_trial/218662\n",
    "\n",
    "#Path to specific patient's folder\n",
    "Patient_PATH = \"/usr/local/kdeploy/Tensorflow/DATA/NLST_trial/218662\"\n",
    "#Series ID\n",
    "Patient_SERIES = \"1.3.6.1.4.1.14519.5.2.1.7009.9004.125728469265057104905925332880\"\n",
    "\n",
    "\n",
    "#217676.s3.19990102-GE MEDICAL SYSTEMS-1.25-120-STANDARD-80.1.3.6.1.4.1.14519.5.2.1.7009.9004.238276364730046742982927193825.v10.new.png'\n",
    "#Path to mask image for that patient\n",
    "mask_image = '218662.s3.19990102-SIEMENS-1-120-B30f-250.1.3.6.1.4.1.14519.5.2.1.7009.9004.125728469265057104905925332880.v12.new.png'\n",
    "\n",
    "\n",
    "txt_files = glob.glob(os.path.join(Patient_PATH,\"*.txt\"))\n",
    "series_image_dict = None\n",
    "with open(txt_files[0]) as dicom_md:\n",
    "   for line in dicom_md:\n",
    "       if series_image_dict is None:\n",
    "           series_image_dict = {}\n",
    "           continue\n",
    "       line_split = line.split(\" \")\n",
    "       series, image =  line_split[2], line_split[3]\n",
    "       if series not in series_image_dict.keys():\n",
    "          series_image_dict[series] = []\n",
    "       series_image_dict[series].append(os.path.basename(image).strip())\n",
    "    \n",
    "filter_series = series_image_dict[Patient_SERIES]"
   ]
  },
  {
   "cell_type": "code",
   "execution_count": null,
   "metadata": {},
   "outputs": [],
   "source": [
    "patients = os.listdir(Patient_PATH)\n",
    "patient_0_path = os.path.join(PATH,patients[0])\n",
    "\n",
    "\n",
    "def load_scan(path):\n",
    "    slices = [dicom.read_file(path + '/' + s) for s in os.listdir(path) if s in filter_series]\n",
    "    slices.sort(key = lambda x: float(x.ImagePositionPatient[2]))\n",
    "    if slices[0].ImagePositionPatient[2] == slices[1].ImagePositionPatient[2]:\n",
    "        sec_num = 2;\n",
    "        while slices[0].ImagePositionPatient[2] == slices[sec_num].ImagePositionPatient[2]:\n",
    "            sec_num = sec_num+1;\n",
    "        slice_num = int(len(slices) / sec_num)\n",
    "        slices.sort(key = lambda x:float(x.InstanceNumber))\n",
    "        slices = slices[0:slice_num]\n",
    "        slices.sort(key = lambda x:float(x.ImagePositionPatient[2]))\n",
    "    try:\n",
    "        slice_thickness = np.abs(slices[0].ImagePositionPatient[2] - slices[1].ImagePositionPatient[2])\n",
    "    except:\n",
    "        slice_thickness = np.abs(slices[0].SliceLocation - slices[1].SliceLocation)\n",
    "        \n",
    "    for s in slices:\n",
    "        s.SliceThickness = slice_thickness\n",
    "        \n",
    "    return slices\n",
    "\n",
    "def get_pixels_hu(slices):\n",
    "    image = np.stack([s.pixel_array for s in slices])\n",
    "    # Convert to int16 (from sometimes int16), \n",
    "    # should be possible as values should always be low enough (<32k)\n",
    "    image = image.astype(np.int16)\n",
    "    \n",
    "    # Convert to Hounsfield units (HU)\n",
    "    for slice_number in range(len(slices)):        \n",
    "        intercept = slices[slice_number].RescaleIntercept\n",
    "        slope = slices[slice_number].RescaleSlope\n",
    "        \n",
    "        if slope != 1:\n",
    "            image[slice_number] = slope * image[slice_number].astype(np.float64)\n",
    "            image[slice_number] = image[slice_number].astype(np.int16)\n",
    "            \n",
    "        image[slice_number] += np.int16(intercept)\n",
    "    \n",
    "    return np.array(image, dtype=np.int16), np.array([slices[0].SliceThickness] + slices[0].PixelSpacing, dtype=np.float32)\n",
    "\n"
   ]
  },
  {
   "cell_type": "code",
   "execution_count": null,
   "metadata": {},
   "outputs": [],
   "source": [
    "patient_0_image, patient_0_spacing = get_pixels_hu(load_scan(patient_0_path))\n",
    "spacing = patient_0_spacing\n",
    "def plot_3d(image, overlay_img, threshold=-300):\n",
    "    \n",
    "    # Position the scan upright, \n",
    "    # so the head of the patient would be at the top facing the camera\n",
    "    p = image.transpose(2,1,0)\n",
    "    \n",
    "    #Reduce computational power\n",
    "    #p = measure.block_reduce(p,(3,3,3), func=np.max)\n",
    "    \n",
    "    verts, faces, _, _ = measure.marching_cubes(p, threshold)\n",
    "\n",
    "    fig = plt.figure(figsize=(10, 10))\n",
    "    ax = fig.add_subplot(111, projection='3d')\n",
    "\n",
    "    # Fancy indexing: `verts[faces]` to generate a collection of triangles\n",
    "    mesh = Poly3DCollection(verts[faces], alpha=0.70)\n",
    "    face_color = [0.45, 0.45, 0.75]\n",
    "    mesh.set_facecolor(face_color)\n",
    "    ax.add_collection3d(mesh)\n",
    "\n",
    "    ax.set_xlim(0, p.shape[0])\n",
    "    ax.set_ylim(0, p.shape[1])\n",
    "    ax.set_zlim(0, p.shape[2])\n",
    "    \n",
    "    #Add overlay\n",
    "    overlay = overlay_img.transpose(2,1,0)\n",
    "    nodules3 = np.where(overlay==255)\n",
    "    ax.scatter(nodules3[0], nodules3[1], nodules3[2], zdir='z', c= 'red')\n",
    "    \n",
    "    plt.show()\n",
    "    "
   ]
  },
  {
   "cell_type": "code",
   "execution_count": null,
   "metadata": {
    "collapsed": true
   },
   "outputs": [],
   "source": []
  },
  {
   "cell_type": "code",
   "execution_count": null,
   "metadata": {},
   "outputs": [],
   "source": [
    "%matplotlib inline\n",
    "import numpy as np\n",
    "from scipy import misc\n",
    "import matplotlib.pyplot as plt\n",
    "from mpl_toolkits.mplot3d import Axes3D\n",
    "\n",
    "im = misc.imread(mask_image)\n",
    "im3 = np.reshape(im,(int(im.shape[0]/512),512,im.shape[1]))\n",
    "nodules3 = np.where(im3==255)\n",
    "\n",
    "fig = plt.figure()\n",
    "ax = fig.add_subplot(111, projection='3d')\n",
    "ax.scatter(nodules3[0], nodules3[1], nodules3[2], zdir='z', c= 'red')\n"
   ]
  },
  {
   "cell_type": "code",
   "execution_count": null,
   "metadata": {},
   "outputs": [],
   "source": [
    "plot_3d(patient_0_image, im3, 400)"
   ]
  },
  {
   "cell_type": "code",
   "execution_count": null,
   "metadata": {},
   "outputs": [],
   "source": []
  },
  {
   "cell_type": "code",
   "execution_count": null,
   "metadata": {
    "collapsed": true
   },
   "outputs": [],
   "source": []
  }
 ],
 "metadata": {
  "kernelspec": {
   "display_name": "Python 3",
   "language": "python",
   "name": "python3"
  },
  "language_info": {
   "codemirror_mode": {
    "name": "ipython",
    "version": 3
   },
   "file_extension": ".py",
   "mimetype": "text/x-python",
   "name": "python",
   "nbconvert_exporter": "python",
   "pygments_lexer": "ipython3",
   "version": "3.6.1"
  }
 },
 "nbformat": 4,
 "nbformat_minor": 2
}
